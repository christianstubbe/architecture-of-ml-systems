{
 "cells": [
  {
   "cell_type": "code",
   "execution_count": null,
   "metadata": {},
   "outputs": [],
   "source": [
    "from pyrosm import OSM\n",
    "from pyrosm import get_data\n",
    "import openeo\n",
    "import matplotlib.pyplot as plt\n",
    "\n",
    "import os"
   ]
  },
  {
   "cell_type": "code",
   "execution_count": null,
   "metadata": {},
   "outputs": [],
   "source": [
    "city = \"Bonn\"\n",
    "\n",
    "USE_LOCAL = False"
   ]
  },
  {
   "cell_type": "code",
   "execution_count": null,
   "metadata": {},
   "outputs": [],
   "source": [
    "\n",
    "if not os.path.exists(os.path.join('data', city)):\n",
    "    USE_LOCAL = False\n",
    "if not USE_LOCAL:\n",
    "    os.makedirs(os.path.join('data', city), exist_ok=True)"
   ]
  },
  {
   "cell_type": "code",
   "execution_count": null,
   "metadata": {},
   "outputs": [],
   "source": [
    "# Download data for given city, or load if already downloaded\n",
    "fp = get_data(city, directory=os.path.join('data', city))\n",
    "osm = OSM(fp)\n",
    "print(\"Loaded OSM data for \" + city)\n",
    "\n",
    "# Filter buildings\n",
    "buildings = osm.get_buildings()\n",
    "print(\"Filtered buildings in \" + city)\n",
    "\n",
    "# Get boundaries of the city\n",
    "min_x, min_y, max_x, max_y = buildings.total_bounds\n",
    "print(\"Coordinates of \" + city + \": \" + str(min_x),\n",
    "      str(min_y), str(max_x), str(max_y))"
   ]
  },
  {
   "cell_type": "code",
   "execution_count": null,
   "metadata": {},
   "outputs": [],
   "source": []
  },
  {
   "cell_type": "code",
   "execution_count": null,
   "metadata": {},
   "outputs": [],
   "source": [
    "connection = openeo.connect(\"https://openeo.cloud\")\n",
    "# authenticate\n",
    "connection.authenticate_oidc()\n",
    "collections = connection.list_collections()\n",
    "collections"
   ]
  },
  {
   "cell_type": "code",
   "execution_count": null,
   "metadata": {},
   "outputs": [],
   "source": [
    "connection.describe_collection(\"SENTINEL2_L2A\")"
   ]
  },
  {
   "cell_type": "code",
   "execution_count": null,
   "metadata": {},
   "outputs": [],
   "source": [
    "import openeo.util\n",
    "from openeo.processes import ProcessBuilder\n",
    "def scale_function(x: ProcessBuilder):\n",
    "    return x.linear_scale_range(0, 5000, 0, 255)\n",
    "\n",
    "if not USE_LOCAL:  \n",
    "    \n",
    "\n",
    "    # define time\n",
    "    temporal_extent = [\"2023-05-01\", \"2023-09-30\"]\n",
    "\n",
    "    # define coordinates\n",
    "    bbox = {\"west\": min_x, \"south\": min_y, \"east\": max_x, \"north\": max_y}\n",
    "\n",
    "    # define the collection ID\n",
    "    collection_id = \"SENTINEL2_L2A\"\n",
    "\n",
    "    # define bands\n",
    "    # ['B01', 'B02', 'B03', 'B04', 'B05', 'B06', 'B07', 'B08', 'B8A', 'B09', 'B11', 'B12', 'AOT', 'SCL', 'SNW', 'CLD', 'CLP', 'CLM', 'sunAzimuthAngles', 'sunZenithAngles', 'viewAzimuthMean', 'viewZenithMean', 'dataMask']\n",
    "    bands = [\"B04\", \"B03\", \"B02\", ]\n",
    "\n",
    "    # load the data collection\n",
    "    datacube = connection.load_collection(\n",
    "        collection_id=collection_id,\n",
    "        spatial_extent=bbox,\n",
    "        temporal_extent=temporal_extent,\n",
    "        bands=bands,\n",
    "        max_cloud_cover=10\n",
    "    )\n",
    "\n",
    "    # merge temporal dimension\n",
    "    # datacube = datacube.reduce_temporal(\"median\")\n",
    "\n",
    "    # blue = datacube.band(\"B02\") * 0.0001\n",
    "    # red = datacube.band(\"B04\") * 0.0001\n",
    "    # green = datacube.band(\"B03\") * 0.0001\n",
    "    \n",
    "    # blue = blue.reduce_temporal(\"median\")\n",
    "    # red = red.reduce_temporal(\"median\")\n",
    "    # green = green.reduce_temporal(\"median\")\n",
    "\n",
    "    # datacube.band(\"B02\", blue)\n",
    "    # datacube.band(\"B04\", red)\n",
    "    # datacube.band(\"B03\", green)\n",
    "\n",
    "    # display(blue)\n",
    "\n",
    "    # display the data\n",
    "    datacube_scale = datacube.apply(scale_function)\n",
    "    datacube_scale_reduced = datacube_scale.reduce_temporal(\"median\")\n",
    "\n",
    "    # create cloud mask\n",
    "\n",
    "\n",
    "    display(datacube_scale_reduced)\n",
    "    # save the data as TIFF files\n",
    "    datacube_scale_reduced.download(os.path.join(\n",
    "        \"data\", city, \"satellite_data.tiff\"), format=\"GTiff\")"
   ]
  },
  {
   "cell_type": "code",
   "execution_count": null,
   "metadata": {},
   "outputs": [],
   "source": [
    "import rasterio\n",
    "from rasterio.plot import show\n",
    "import numpy as np\n",
    "import plotly.express as px\n",
    "\n",
    "path = \"./data/Bonn/satellite_data.tiff\"\n",
    "\n",
    "with rasterio.open(path) as src:\n",
    "    data = src.read()\n",
    "    \n",
    "    data = np.moveaxis(data, [0], [2])\n",
    "    profile = src.profile\n",
    "    print(profile)\n",
    "    # plot matplotlib\n",
    "\n",
    "    fig, ax = plt.subplots(figsize=(10, 10))\n",
    "    ax.imshow(data)\n",
    "    plt.show()\n",
    "\n",
    "# plot plotly\n",
    "# fig = px.imshow(np.moveaxis(np.array(data), [0], [2]))\n",
    "# fig\n"
   ]
  },
  {
   "cell_type": "code",
   "execution_count": null,
   "metadata": {},
   "outputs": [],
   "source": [
    "from rasterio.features import geometry_mask\n",
    "mask = geometry_mask(buildings.geometry, data.shape[:-1], profile[\"transform\"], all_touched=False)"
   ]
  },
  {
   "cell_type": "code",
   "execution_count": null,
   "metadata": {},
   "outputs": [],
   "source": [
    "px.imshow(mask)"
   ]
  },
  {
   "cell_type": "code",
   "execution_count": null,
   "metadata": {},
   "outputs": [],
   "source": [
    "buildings.plot()"
   ]
  },
  {
   "cell_type": "code",
   "execution_count": null,
   "metadata": {},
   "outputs": [],
   "source": []
  }
 ],
 "metadata": {
  "kernelspec": {
   "display_name": "Python 3",
   "language": "python",
   "name": "python3"
  },
  "language_info": {
   "codemirror_mode": {
    "name": "ipython",
    "version": 3
   },
   "file_extension": ".py",
   "mimetype": "text/x-python",
   "name": "python",
   "nbconvert_exporter": "python",
   "pygments_lexer": "ipython3",
   "version": "3.12.3"
  }
 },
 "nbformat": 4,
 "nbformat_minor": 2
}
