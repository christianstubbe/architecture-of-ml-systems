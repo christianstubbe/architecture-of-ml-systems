{
 "cells": [
  {
   "cell_type": "code",
   "execution_count": null,
   "metadata": {},
   "outputs": [],
   "source": [
    "import utils\n",
    "from data_acquisition import DataHandler\n",
    "import numpy as np\n",
    "from torch.utils.data import Dataset\n",
    "\n",
    "\n",
    "# Configure logging for the pipeline\n",
    "logger = utils.setup_logger(level='INFO')"
   ]
  },
  {
   "cell_type": "code",
   "execution_count": null,
   "metadata": {},
   "outputs": [],
   "source": [
    "# print(utils.get_available_cities())\n",
    "cities = ['Aachen', 'Frankfurt', 'CapeTown', 'Hamburg', 'Johannesburg', 'London', 'Montreal', 'Paris', 'Seoul', 'Singapore', 'Sydney']\n",
    "datahandler = DataHandler(logger)\n",
    "\n",
    "from data_preparation import DataPrepare, get_data_loaders\n",
    "dataprepper = DataPrepare(datahandler, logger, patch_size=128)\n"
   ]
  },
  {
   "cell_type": "code",
   "execution_count": null,
   "metadata": {},
   "outputs": [],
   "source": []
  },
  {
   "cell_type": "code",
   "execution_count": null,
   "metadata": {},
   "outputs": [],
   "source": [
    "transformed_images = []\n",
    "\n",
    "for city in cities[:2]:\n",
    "    transformed_images.append(dataprepper.create_tensor_of_windows(city))\n",
    "\n",
    "transformed_images_merged = np.concatenate(transformed_images, axis=0)\n",
    "transformed_images_merged = np.transpose(transformed_images_merged, (0,3,1,2))\n",
    "train_loader, test_loader = get_data_loaders(transformed_images_merged,train_ratio=0.8, batch_size=64)"
   ]
  },
  {
   "cell_type": "code",
   "execution_count": null,
   "metadata": {},
   "outputs": [],
   "source": [
    " for batch in train_loader:\n",
    "        inputs = batch[:,:-1].to(torch.float32)\n",
    "        labels = batch[:,-1].to(int)\n",
    "        print(labels.max())\n",
    "        break"
   ]
  },
  {
   "cell_type": "code",
   "execution_count": null,
   "metadata": {},
   "outputs": [],
   "source": [
    "import torch.nn as nn\n",
    "model = nn.Sequential(\n",
    "    nn.Conv2d(6, 32, kernel_size=3, padding=1), nn.ReLU(),\n",
    "    nn.Conv2d(32, 64, kernel_size=3, padding=1), nn.ReLU(),\n",
    "    nn.Conv2d(64, 128, kernel_size=3, padding=1), nn.ReLU(),\n",
    "    nn.Conv2d(128, 1, kernel_size=1, padding=0),\n",
    "    nn.Sigmoid())"
   ]
  },
  {
   "cell_type": "code",
   "execution_count": null,
   "metadata": {},
   "outputs": [],
   "source": [
    "import torch.nn as nn\n",
    "import torch.optim as optim\n",
    "import torch\n",
    "\n",
    "\n",
    "# Instantiate the model, loss function, and optimizer\n",
    "criterion = nn.BCELoss()\n",
    "optimizer = optim.SGD(model.parameters(), lr=0.01)\n",
    "\n",
    "# Training loop\n",
    "num_epochs = 5\n",
    "for epoch in range(num_epochs):\n",
    "    model.train()\n",
    "    running_loss = 0.0\n",
    "    for batch in train_loader:\n",
    "        inputs = batch[:,:-1].to(torch.float32)\n",
    "        labels = batch[:,-1, np.newaxis].to(torch.float32)\n",
    "        optimizer.zero_grad()\n",
    "        outputs = model(inputs)\n",
    "        loss = criterion(outputs, labels)\n",
    "        loss.backward()\n",
    "        optimizer.step()\n",
    "        running_loss += loss.item()\n",
    "    \n",
    "    print(f\"Epoch {epoch+1}/{num_epochs}, Loss: {running_loss/len(train_loader)}\")\n"
   ]
  },
  {
   "cell_type": "code",
   "execution_count": null,
   "metadata": {},
   "outputs": [],
   "source": [
    "import numpy as np\n",
    "transformed_images_merged = np.concatenate(transformed_images, axis=0)\n",
    "\n",
    "dataprepper.plot_sub_image(transformed_images_merged[3000]).show()"
   ]
  },
  {
   "cell_type": "code",
   "execution_count": null,
   "metadata": {},
   "outputs": [],
   "source": [
    "datahandler.get_building_mask(\"Frankfurt\")"
   ]
  },
  {
   "cell_type": "code",
   "execution_count": null,
   "metadata": {},
   "outputs": [],
   "source": [
    "\n",
    "\n",
    "buildings = []\n",
    "sat_images = []\n",
    "building_masks = []\n",
    "\n",
    "for city in cities: \n",
    "    buildings.append(datahandler.get_buildings(city))\n",
    "    sat_images.append(datahandler.get_satellite_image(city))\n",
    "    building_masks.append(datahandler.get_building_mask(city))\n",
    "\n",
    "# Plot the expected results for the first city \n",
    "datahandler.plot(city[0])"
   ]
  },
  {
   "cell_type": "code",
   "execution_count": null,
   "metadata": {},
   "outputs": [],
   "source": [
    "import data_preparation\n",
    "\n",
    "for city in cities:\n",
    "    data_preparation.create_tensor(city)"
   ]
  },
  {
   "cell_type": "markdown",
   "metadata": {},
   "source": [
    "# Download"
   ]
  },
  {
   "cell_type": "code",
   "execution_count": null,
   "metadata": {},
   "outputs": [],
   "source": [
    "# Download \n",
    "\n",
    "for city in cities: \n",
    "    sat_image = datahandler.get_satellite_image(city)\n",
    "    mask = datahandler.get_building_mask(city)\n",
    "\n",
    "# Plot the expected results for the first city \n",
    "datahandler.plot(city[0])"
   ]
  }
 ],
 "metadata": {
  "kernelspec": {
   "display_name": "Python 3",
   "language": "python",
   "name": "python3"
  },
  "language_info": {
   "codemirror_mode": {
    "name": "ipython",
    "version": 3
   },
   "file_extension": ".py",
   "mimetype": "text/x-python",
   "name": "python",
   "nbconvert_exporter": "python",
   "pygments_lexer": "ipython3",
   "version": "3.12.4"
  }
 },
 "nbformat": 4,
 "nbformat_minor": 2
}
