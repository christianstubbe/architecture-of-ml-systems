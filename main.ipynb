{
 "cells": [
  {
   "cell_type": "code",
   "execution_count": 1,
   "metadata": {},
   "outputs": [],
   "source": [
    "import utils\n",
    "\n",
    "# Configure logging for the pipeline\n",
    "logger = utils.setup_logger(level='INFO')"
   ]
  },
  {
   "cell_type": "code",
   "execution_count": 2,
   "metadata": {},
   "outputs": [],
   "source": [
    "# print(utils.get_available_cities())\n",
    "cities = ['Aachen', 'Frankfurt', 'CapeTown', 'Hamburg', 'Johannesburg', 'London', 'Montreal', 'Paris', 'Seoul', 'Singapore', 'Sydney']"
   ]
  },
  {
   "cell_type": "code",
   "execution_count": 3,
   "metadata": {},
   "outputs": [
    {
     "name": "stderr",
     "output_type": "stream",
     "text": [
      "2024-06-24 11:07:56,575 - root - INFO - __init__ - Data directory already exists\n",
      "2024-06-24 11:07:56,576 - root - INFO - create_directory - Aachen: Directory available\n",
      "2024-06-24 11:07:56,577 - root - INFO - get_buildings - Aachen: Using local building data\n"
     ]
    }
   ],
   "source": [
    "from data_acquisition import DataHandler\n",
    "\n",
    "datahandler = DataHandler(logger)\n",
    "\n",
    "for city in cities: \n",
    "    datahandler.get_buildings(city)\n",
    "    datahandler.get_satellite_image(city)\n",
    "    datahandler.get_building_mask(city)\n",
    "\n",
    "# Plot the expected results for the first city \n",
    "datahandler.plot(city[0])"
   ]
  },
  {
   "cell_type": "code",
   "execution_count": null,
   "metadata": {},
   "outputs": [],
   "source": [
    "import data_preparation\n",
    "\n",
    "for city in cities:\n",
    "    data_preparation.create_tensor(city)"
   ]
  }
 ],
 "metadata": {
  "kernelspec": {
   "display_name": "Python 3",
   "language": "python",
   "name": "python3"
  },
  "language_info": {
   "codemirror_mode": {
    "name": "ipython",
    "version": 3
   },
   "file_extension": ".py",
   "mimetype": "text/x-python",
   "name": "python",
   "nbconvert_exporter": "python",
   "pygments_lexer": "ipython3",
   "version": "3.12.4"
  }
 },
 "nbformat": 4,
 "nbformat_minor": 2
}
