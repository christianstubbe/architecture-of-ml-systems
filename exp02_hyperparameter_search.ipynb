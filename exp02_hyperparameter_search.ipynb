{
 "cells": [
  {
   "cell_type": "markdown",
   "metadata": {},
   "source": [
    "# Hyperparameter Tuning"
   ]
  },
  {
   "cell_type": "code",
   "execution_count": 7,
   "metadata": {},
   "outputs": [],
   "source": [
    "import numpy as np\n",
    "from data_preperation.dataset import CityDataset\n",
    "import os\n",
    "\n",
    "from config import PATH, CITIES, MIN_LABELS, PATCH_SIZE, TEST_CITY\n"
   ]
  },
  {
   "cell_type": "code",
   "execution_count": 2,
   "metadata": {},
   "outputs": [
    {
     "name": "stdout",
     "output_type": "stream",
     "text": [
      "Loading data from cities:\n",
      "['Singapore', 'Johannesburg', 'Bogota', 'Wien', 'London', 'Montreal', 'Seoul', 'Aachen', 'CapeTown', 'Hamburg', 'Paris', 'Frankfurt', 'Muenchen', 'Sydney']\n"
     ]
    },
    {
     "data": {
      "application/vnd.jupyter.widget-view+json": {
       "model_id": "bab44e765a6e4d7a8cea50d453a27a32",
       "version_major": 2,
       "version_minor": 0
      },
      "text/plain": [
       "Loading Images:   0%|          | 0/14 [00:00<?, ?it/s]"
      ]
     },
     "metadata": {},
     "output_type": "display_data"
    },
    {
     "data": {
      "application/vnd.jupyter.widget-view+json": {
       "model_id": "d44e06a8cb48434ab85835bffa749bc1",
       "version_major": 2,
       "version_minor": 0
      },
      "text/plain": [
       "Loading Labels:   0%|          | 0/14 [00:00<?, ?it/s]"
      ]
     },
     "metadata": {},
     "output_type": "display_data"
    },
    {
     "data": {
      "application/vnd.jupyter.widget-view+json": {
       "model_id": "1c1ce763e6f94dcd9afce887c0a7ea1b",
       "version_major": 2,
       "version_minor": 0
      },
      "text/plain": [
       "Creating Patches from Images: 0it [00:00, ?it/s]"
      ]
     },
     "metadata": {},
     "output_type": "display_data"
    },
    {
     "name": "stdout",
     "output_type": "stream",
     "text": [
      "Loading data from cities:\n",
      "['Berlin']\n"
     ]
    },
    {
     "data": {
      "application/vnd.jupyter.widget-view+json": {
       "model_id": "8362e7c5ed5245899746945ecd9a0164",
       "version_major": 2,
       "version_minor": 0
      },
      "text/plain": [
       "Loading Images:   0%|          | 0/1 [00:00<?, ?it/s]"
      ]
     },
     "metadata": {},
     "output_type": "display_data"
    },
    {
     "data": {
      "application/vnd.jupyter.widget-view+json": {
       "model_id": "939fbc9c15ec41dfa89704db9edddeda",
       "version_major": 2,
       "version_minor": 0
      },
      "text/plain": [
       "Loading Labels:   0%|          | 0/1 [00:00<?, ?it/s]"
      ]
     },
     "metadata": {},
     "output_type": "display_data"
    }
   ],
   "source": [
    "dataset = CityDataset(\n",
    "    PATH,\n",
    "    patch_size=PATCH_SIZE,\n",
    "    data_name=\"openEO.tif\",\n",
    "    labels_name=\"building_mask_dense.tif\",\n",
    "    image_bands=[1, 2, 3, 4, 5, 6],\n",
    "    min_labels=MIN_LABELS,\n",
    "    cities=CITIES,\n",
    "    train=True,\n",
    ")\n",
    "\n",
    "dataset_test = CityDataset(\n",
    "    PATH,\n",
    "    data_name=\"openEO.tif\",\n",
    "    labels_name=\"building_mask_dense.tif\",\n",
    "    image_bands=[1, 2, 3, 4, 5, 6],\n",
    "    cities=[\"Berlin\"],\n",
    "    train=False,\n",
    ")"
   ]
  },
  {
   "cell_type": "code",
   "execution_count": 8,
   "metadata": {},
   "outputs": [],
   "source": [
    "import torch\n",
    "import torch.nn as nn\n",
    "import torch.nn.functional as F\n",
    "import torch.optim as optim\n",
    "# from torch.utils.tensorboard import SummaryWriter\n",
    "import lightning as L\n",
    "from typing import Any\n",
    "from torch.utils.data import DataLoader, Dataset\n",
    "from lightning import seed_everything\n",
    "from lightning.pytorch.callbacks.early_stopping import EarlyStopping\n",
    "from lightning.pytorch.callbacks.model_checkpoint import ModelCheckpoint\n",
    "from models.lightning_utils import LitModule\n",
    "from models.baseconvnet import ConvNetSimple\n",
    "\n",
    "from lightning.pytorch.tuner.tuning import Tuner\n",
    "\n",
    "# model\n",
    "# convmodel = LitModule(ConvNetSimple())\n",
    "\n",
    "# trainer\n",
    "def get_trainer(dirname):\n",
    "    trainer = L.Trainer(\n",
    "        default_root_dir=f\"model_experiments/hyperparam_tuning/{dirname}\",\n",
    "        callbacks=[\n",
    "            EarlyStopping(\n",
    "                monitor=\"val_loss\",\n",
    "                mode=\"min\",\n",
    "                patience=2,\n",
    "            ),\n",
    "            ModelCheckpoint(\n",
    "                dirpath=f\"model_experiments/hyperparam_tuning/{dirname}\",\n",
    "                monitor=\"val_loss\",\n",
    "                mode=\"min\",\n",
    "                save_top_k=1,\n",
    "                filename=\"best_model\"\n",
    "            )\n",
    "        ],\n",
    "        # val_check_interval=1,\n",
    "        fast_dev_run=False,\n",
    "        num_sanity_val_steps=2,\n",
    "        max_epochs=10,\n",
    "        log_every_n_steps=20,\n",
    "    )\n",
    "    return trainer"
   ]
  },
  {
   "cell_type": "code",
   "execution_count": 9,
   "metadata": {},
   "outputs": [
    {
     "name": "stdout",
     "output_type": "stream",
     "text": [
      "[1, 2, 3, 4, 5, 6]\n",
      "[[1, 3, 4, 5, 6], [2, 3, 4, 5, 6], [1, 2, 3, 4, 6], [2, 3, 4], [1, 4, 5]]\n"
     ]
    }
   ],
   "source": [
    "from itertools import product\n",
    "import random\n",
    "b = {'B04': 1, 'B03': 2, 'B02': 3, 'B08': 4, 'B12': 5, 'B11': 6}\n",
    "channels = list(b.values())\n",
    "print(channels)\n",
    "optimizers = [\"sgd\", \"adamW\",\"adam\"]\n",
    "\n",
    "grid = []\n",
    "i = 0\n",
    "while i < 5:\n",
    "    num_channels = random.randint(3, 6)\n",
    "    selected_channels = random.sample(channels, num_channels)\n",
    "    selected_channels.sort()    \n",
    "    if selected_channels not in grid:\n",
    "        i += 1\n",
    "        grid.append(selected_channels) \n",
    "    else:\n",
    "        continue\n",
    "print(grid)"
   ]
  },
  {
   "cell_type": "code",
   "execution_count": 10,
   "metadata": {},
   "outputs": [
    {
     "name": "stdout",
     "output_type": "stream",
     "text": [
      "[1, 3, 4, 5, 6]\n",
      "Loading data from cities:\n",
      "['Singapore', 'Johannesburg', 'Bogota', 'Wien', 'London', 'Montreal', 'Seoul', 'Aachen', 'CapeTown', 'Hamburg', 'Paris', 'Frankfurt', 'Muenchen', 'Sydney']\n"
     ]
    },
    {
     "data": {
      "application/vnd.jupyter.widget-view+json": {
       "model_id": "7b699604d63f4a8e8e288a0d38d3ca14",
       "version_major": 2,
       "version_minor": 0
      },
      "text/plain": [
       "Loading Images:   0%|          | 0/14 [00:00<?, ?it/s]"
      ]
     },
     "metadata": {},
     "output_type": "display_data"
    },
    {
     "data": {
      "application/vnd.jupyter.widget-view+json": {
       "model_id": "9e09930d7f494ddeba9c4e4909cd13f1",
       "version_major": 2,
       "version_minor": 0
      },
      "text/plain": [
       "Loading Labels:   0%|          | 0/14 [00:00<?, ?it/s]"
      ]
     },
     "metadata": {},
     "output_type": "display_data"
    },
    {
     "data": {
      "application/vnd.jupyter.widget-view+json": {
       "model_id": "fba7ec82807f455c80473e5edc9010ce",
       "version_major": 2,
       "version_minor": 0
      },
      "text/plain": [
       "Creating Patches from Images: 0it [00:00, ?it/s]"
      ]
     },
     "metadata": {},
     "output_type": "display_data"
    },
    {
     "name": "stdout",
     "output_type": "stream",
     "text": [
      "Loading data from cities:\n",
      "['Berlin']\n"
     ]
    },
    {
     "data": {
      "application/vnd.jupyter.widget-view+json": {
       "model_id": "8b953a64da844725b394412ad7807258",
       "version_major": 2,
       "version_minor": 0
      },
      "text/plain": [
       "Loading Images:   0%|          | 0/1 [00:00<?, ?it/s]"
      ]
     },
     "metadata": {},
     "output_type": "display_data"
    },
    {
     "data": {
      "application/vnd.jupyter.widget-view+json": {
       "model_id": "162483896c3b4ae0a4ca4c4feccf7118",
       "version_major": 2,
       "version_minor": 0
      },
      "text/plain": [
       "Loading Labels:   0%|          | 0/1 [00:00<?, ?it/s]"
      ]
     },
     "metadata": {},
     "output_type": "display_data"
    },
    {
     "name": "stderr",
     "output_type": "stream",
     "text": [
      "/home/jlb/Projects/architecture-of-ml-systems/.venv/lib/python3.10/site-packages/lightning/pytorch/utilities/parsing.py:208: Attribute 'model' is an instance of `nn.Module` and is already saved during checkpointing. It is recommended to ignore them using `self.save_hyperparameters(ignore=['model'])`.\n",
      "/home/jlb/Projects/architecture-of-ml-systems/.venv/lib/python3.10/site-packages/lightning/pytorch/utilities/parsing.py:208: Attribute 'loss' is an instance of `nn.Module` and is already saved during checkpointing. It is recommended to ignore them using `self.save_hyperparameters(ignore=['loss'])`.\n",
      "GPU available: True (cuda), used: True\n",
      "TPU available: False, using: 0 TPU cores\n",
      "HPU available: False, using: 0 HPUs\n",
      "Seed set to 49\n"
     ]
    },
    {
     "name": "stdout",
     "output_type": "stream",
     "text": [
      "[1, 3, 4, 5, 6] sgd\n"
     ]
    },
    {
     "name": "stderr",
     "output_type": "stream",
     "text": [
      "Missing logger folder: model_experiments/hyperparam_tuning/convSimple/_1_3_4_5_6_sgd/lightning_logs\n",
      "/home/jlb/Projects/architecture-of-ml-systems/.venv/lib/python3.10/site-packages/lightning/pytorch/callbacks/model_checkpoint.py:652: Checkpoint directory /home/jlb/Projects/architecture-of-ml-systems/model_experiments/hyperparam_tuning/convSimple/_1_3_4_5_6_sgd exists and is not empty.\n",
      "LOCAL_RANK: 0 - CUDA_VISIBLE_DEVICES: [0]\n"
     ]
    },
    {
     "data": {
      "application/vnd.jupyter.widget-view+json": {
       "model_id": "8e775ad95cd74161ab7c03a481469caa",
       "version_major": 2,
       "version_minor": 0
      },
      "text/plain": [
       "Finding best initial lr:   0%|          | 0/5000 [00:00<?, ?it/s]"
      ]
     },
     "metadata": {},
     "output_type": "display_data"
    },
    {
     "name": "stderr",
     "output_type": "stream",
     "text": [
      "`Trainer.fit` stopped: `max_steps=5000` reached.\n",
      "Learning rate set to 0.02270478715883327\n",
      "Restoring states from the checkpoint path at model_experiments/hyperparam_tuning/convSimple/_1_3_4_5_6_sgd/.lr_find_cadb1e8f-2f66-4b1f-9e44-1cb9561fe7da.ckpt\n",
      "Restored all states from the checkpoint at model_experiments/hyperparam_tuning/convSimple/_1_3_4_5_6_sgd/.lr_find_cadb1e8f-2f66-4b1f-9e44-1cb9561fe7da.ckpt\n",
      "LOCAL_RANK: 0 - CUDA_VISIBLE_DEVICES: [0]\n",
      "\n",
      "  | Name  | Type          | Params | Mode \n",
      "------------------------------------------------\n",
      "0 | model | ConvNetSimple | 94.0 K | train\n",
      "1 | loss  | BCELoss       | 0      | train\n",
      "------------------------------------------------\n",
      "94.0 K    Trainable params\n",
      "0         Non-trainable params\n",
      "94.0 K    Total params\n",
      "0.376     Total estimated model params size (MB)\n"
     ]
    },
    {
     "data": {
      "application/vnd.jupyter.widget-view+json": {
       "model_id": "ca9712ec29aa4944996a1b75bf66f43c",
       "version_major": 2,
       "version_minor": 0
      },
      "text/plain": [
       "Sanity Checking: |          | 0/? [00:00<?, ?it/s]"
      ]
     },
     "metadata": {},
     "output_type": "display_data"
    },
    {
     "data": {
      "application/vnd.jupyter.widget-view+json": {
       "model_id": "9dbec9af0e484908b17df0948cdcf5b5",
       "version_major": 2,
       "version_minor": 0
      },
      "text/plain": [
       "Training: |          | 0/? [00:00<?, ?it/s]"
      ]
     },
     "metadata": {},
     "output_type": "display_data"
    },
    {
     "data": {
      "application/vnd.jupyter.widget-view+json": {
       "model_id": "2671a2fd022140ee8c848ea3310415aa",
       "version_major": 2,
       "version_minor": 0
      },
      "text/plain": [
       "Validation: |          | 0/? [00:00<?, ?it/s]"
      ]
     },
     "metadata": {},
     "output_type": "display_data"
    },
    {
     "data": {
      "application/vnd.jupyter.widget-view+json": {
       "model_id": "39d726ab431d45baa45f7273a2fa278e",
       "version_major": 2,
       "version_minor": 0
      },
      "text/plain": [
       "Validation: |          | 0/? [00:00<?, ?it/s]"
      ]
     },
     "metadata": {},
     "output_type": "display_data"
    },
    {
     "data": {
      "application/vnd.jupyter.widget-view+json": {
       "model_id": "d4f7178edb49464db4fa031b7c64cc7a",
       "version_major": 2,
       "version_minor": 0
      },
      "text/plain": [
       "Validation: |          | 0/? [00:00<?, ?it/s]"
      ]
     },
     "metadata": {},
     "output_type": "display_data"
    },
    {
     "name": "stderr",
     "output_type": "stream",
     "text": [
      "/home/jlb/Projects/architecture-of-ml-systems/.venv/lib/python3.10/site-packages/lightning/pytorch/trainer/call.py:54: Detected KeyboardInterrupt, attempting graceful shutdown...\n",
      "LOCAL_RANK: 0 - CUDA_VISIBLE_DEVICES: [0]\n"
     ]
    },
    {
     "data": {
      "application/vnd.jupyter.widget-view+json": {
       "model_id": "ec8f0fa298b34873a5db24940c5229bf",
       "version_major": 2,
       "version_minor": 0
      },
      "text/plain": [
       "Testing: |          | 0/? [00:00<?, ?it/s]"
      ]
     },
     "metadata": {},
     "output_type": "display_data"
    },
    {
     "name": "stderr",
     "output_type": "stream",
     "text": [
      "GPU available: True (cuda), used: True\n",
      "TPU available: False, using: 0 TPU cores\n",
      "HPU available: False, using: 0 HPUs\n",
      "Seed set to 49\n"
     ]
    },
    {
     "name": "stdout",
     "output_type": "stream",
     "text": [
      "────────────────────────────────────────────────────────────────────────────────────────────────────────────────────────\n",
      "       Test metric             DataLoader 0\n",
      "────────────────────────────────────────────────────────────────────────────────────────────────────────────────────────\n",
      "     test_loss_epoch        0.49404653906822205\n",
      "────────────────────────────────────────────────────────────────────────────────────────────────────────────────────────\n",
      "[1, 3, 4, 5, 6] adamW\n"
     ]
    },
    {
     "name": "stderr",
     "output_type": "stream",
     "text": [
      "Missing logger folder: model_experiments/hyperparam_tuning/convSimple/_1_3_4_5_6_adamW/lightning_logs\n",
      "/home/jlb/Projects/architecture-of-ml-systems/.venv/lib/python3.10/site-packages/lightning/pytorch/callbacks/model_checkpoint.py:652: Checkpoint directory /home/jlb/Projects/architecture-of-ml-systems/model_experiments/hyperparam_tuning/convSimple/_1_3_4_5_6_adamW exists and is not empty.\n",
      "LOCAL_RANK: 0 - CUDA_VISIBLE_DEVICES: [0]\n"
     ]
    },
    {
     "data": {
      "application/vnd.jupyter.widget-view+json": {
       "model_id": "694b9fa98f1b49f695f9d630dcdab839",
       "version_major": 2,
       "version_minor": 0
      },
      "text/plain": [
       "Finding best initial lr:   0%|          | 0/5000 [00:00<?, ?it/s]"
      ]
     },
     "metadata": {},
     "output_type": "display_data"
    }
   ],
   "source": [
    "model_stats = {}\n",
    "torch.set_float32_matmul_precision('high') # for tensor cores\n",
    "test_dl = DataLoader(dataset_test, batch_size=32, shuffle=False, num_workers=20)\n",
    "for chs in grid:\n",
    "    print(chs)\n",
    "    # load the data\n",
    "    dataset = CityDataset(PATH,\n",
    "                      patch_size=32,\n",
    "                      data_name=\"openEO.tif\",\n",
    "                      labels_name=\"building_mask_dense.tif\",\n",
    "                      image_bands=chs,\n",
    "                      min_labels=0.1,\n",
    "                      cities=CITIES,\n",
    "                      train=True,)\n",
    "    train_ds, val_ds = dataset.train_val_split(val_size=0.1, show_summary=False)\n",
    "    train_dl = DataLoader(train_ds, batch_size=32, shuffle=True, num_workers=20)\n",
    "    val_dl = DataLoader(val_ds, batch_size=32, shuffle=False, num_workers=20)\n",
    "\n",
    "    dataset_test = CityDataset(PATH,\n",
    "                            data_name=\"openEO.tif\",\n",
    "                            labels_name=\"building_mask_dense.tif\",\n",
    "                            image_bands=chs,\n",
    "                            cities=TEST_CITY,\n",
    "                            train=False)\n",
    "    test_dl = DataLoader(dataset_test, batch_size=32, shuffle=False, num_workers=20)\n",
    "\n",
    "\n",
    "    for optim in optimizers:\n",
    "        print(chs, optim)\n",
    "        # create the model\n",
    "        model = LitModule(ConvNetSimple(len(chs)), learning_rate=0.001, optimizer=optim)\n",
    "        # create the trainer\n",
    "        trainer = get_trainer(f'convSimple/{str(chs).replace(\", \", \"_\").replace(\"[\", \"_\").replace(\"]\", \"_\")}{optim}')\n",
    "        # tuner lr\n",
    "        seed_everything(49)\n",
    "        tuner = Tuner(trainer=trainer)\n",
    "        tuner.lr_find(model, train_dl, val_dl, min_lr=1e-5, max_lr=0.03, num_training=5000)\n",
    "\n",
    "        # train the model\n",
    "        trainer.fit(model, train_dataloaders=train_dl, val_dataloaders=val_dl)\n",
    "        model_stats[f\"{str(chs)}_{optim}\"] = dict(\n",
    "            best_model=trainer.checkpoint_callback.best_model_path,\n",
    "        )\n",
    "        # test the model\n",
    "        best_model = LitModule.load_from_checkpoint(trainer.checkpoint_callback.best_model_path)\n",
    "        trainer.test(model=model, dataloaders=test_dl)   \n"
   ]
  },
  {
   "cell_type": "markdown",
   "metadata": {},
   "source": [
    "# UNET Hyperparam Search"
   ]
  },
  {
   "cell_type": "code",
   "execution_count": 1,
   "metadata": {},
   "outputs": [
    {
     "ename": "NameError",
     "evalue": "name 'torch' is not defined",
     "output_type": "error",
     "traceback": [
      "\u001b[0;31m---------------------------------------------------------------------------\u001b[0m",
      "\u001b[0;31mNameError\u001b[0m                                 Traceback (most recent call last)",
      "Cell \u001b[0;32mIn[1], line 4\u001b[0m\n\u001b[1;32m      1\u001b[0m model_stats \u001b[38;5;241m=\u001b[39m {}\n\u001b[1;32m      2\u001b[0m \u001b[38;5;28;01mfrom\u001b[39;00m \u001b[38;5;21;01mmodels\u001b[39;00m\u001b[38;5;21;01m.\u001b[39;00m\u001b[38;5;21;01munet\u001b[39;00m \u001b[38;5;28;01mimport\u001b[39;00m UNet\n\u001b[0;32m----> 4\u001b[0m \u001b[43mtorch\u001b[49m\u001b[38;5;241m.\u001b[39mset_float32_matmul_precision(\u001b[38;5;124m'\u001b[39m\u001b[38;5;124mhigh\u001b[39m\u001b[38;5;124m'\u001b[39m) \u001b[38;5;66;03m# for tensor cores\u001b[39;00m\n\u001b[1;32m      5\u001b[0m test_dl \u001b[38;5;241m=\u001b[39m DataLoader(dataset_test, batch_size\u001b[38;5;241m=\u001b[39m\u001b[38;5;241m32\u001b[39m, shuffle\u001b[38;5;241m=\u001b[39m\u001b[38;5;28;01mFalse\u001b[39;00m, num_workers\u001b[38;5;241m=\u001b[39m\u001b[38;5;241m20\u001b[39m)\n\u001b[1;32m      6\u001b[0m \u001b[38;5;28;01mfor\u001b[39;00m chs \u001b[38;5;129;01min\u001b[39;00m grid:\n",
      "\u001b[0;31mNameError\u001b[0m: name 'torch' is not defined"
     ]
    }
   ],
   "source": [
    "model_stats = {}\n",
    "from models.unet import UNet\n",
    "\n",
    "torch.set_float32_matmul_precision('high') # for tensor cores\n",
    "test_dl = DataLoader(dataset_test, batch_size=32, shuffle=False, num_workers=20)\n",
    "for chs in grid:\n",
    "    print(chs)\n",
    "    # load the data\n",
    "    dataset = CityDataset(PATH,\n",
    "                      patch_size=32,\n",
    "                      data_name=\"openEO.tif\",\n",
    "                      labels_name=\"building_mask_dense.tif\",\n",
    "                      image_bands=chs,\n",
    "                      min_labels=0.1,\n",
    "                      cities=CITIES,\n",
    "                      train=True,)\n",
    "    train_ds, val_ds = dataset.train_val_split(val_size=0.1, show_summary=False)\n",
    "    train_dl = DataLoader(train_ds, batch_size=32, shuffle=True, num_workers=20)\n",
    "    val_dl = DataLoader(val_ds, batch_size=32, shuffle=False, num_workers=20)\n",
    "\n",
    "    dataset_test = CityDataset(PATH,\n",
    "                            data_name=\"openEO.tif\",\n",
    "                            labels_name=\"building_mask_dense.tif\",\n",
    "                            image_bands=chs,\n",
    "                            cities=TEST_CITY,\n",
    "                            train=False)\n",
    "    test_dl = DataLoader(dataset_test, batch_size=32, shuffle=False, num_workers=20)\n",
    "\n",
    "\n",
    "    for optim in optimizers:\n",
    "        print(chs, optim)\n",
    "        # create the model\n",
    "\n",
    "        # model\n",
    "        unet = UNet(n_channels=len(dataset.get_image_bands()), n_classes=1, bilinear=True)\n",
    "        # UNet implementation uses the BCEWithLogitsLoss, lr of 1e-5 default\n",
    "        model = LitModule(unet, learning_rate=1e-4, loss=nn.BCEWithLogitsLoss())\n",
    "\n",
    "\n",
    "        # create the trainer\n",
    "        trainer = get_trainer(f'unet/{str(chs).replace(\", \", \"_\").replace(\"[\", \"_\").replace(\"]\", \"_\")}{optim}')\n",
    "        \n",
    "        \n",
    "        # tuner lr\n",
    "        seed_everything(49)\n",
    "        tuner = Tuner(trainer=trainer)\n",
    "        tuner.lr_find(model, train_dl, val_dl, min_lr=1e-5, max_lr=0.03, num_training=5000)\n",
    "\n",
    "        # train the model\n",
    "        trainer.fit(model, train_dataloaders=train_dl, val_dataloaders=val_dl)\n",
    "        model_stats[f\"{str(chs)}_{optim}\"] = dict(\n",
    "            best_model=trainer.checkpoint_callback.best_model_path,\n",
    "        )\n",
    "        # test the model\n",
    "        best_model = LitModule.load_from_checkpoint(trainer.checkpoint_callback.best_model_path)\n",
    "        trainer.test(model=model, dataloaders=test_dl)   \n"
   ]
  }
 ],
 "metadata": {
  "kernelspec": {
   "display_name": ".venv",
   "language": "python",
   "name": "python3"
  },
  "language_info": {
   "codemirror_mode": {
    "name": "ipython",
    "version": 3
   },
   "file_extension": ".py",
   "mimetype": "text/x-python",
   "name": "python",
   "nbconvert_exporter": "python",
   "pygments_lexer": "ipython3",
   "version": "3.10.12"
  }
 },
 "nbformat": 4,
 "nbformat_minor": 2
}
