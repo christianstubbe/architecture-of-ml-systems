{
 "cells": [
  {
   "cell_type": "code",
   "execution_count": 8,
   "metadata": {},
   "outputs": [],
   "source": [
    "import nbformat as nbf\n",
    "\n",
    "with open(\"utils.py\", \"r\") as f:\n",
    "    utils_code = f.read()\n",
    "\n",
    "with open(\"data_acquisition.py\", \"r\") as f:\n",
    "    data_acquisition_code = f.read()\n",
    "\n",
    "with open(\"data_preparation.py\", \"r\") as f:\n",
    "    data_preperation_code = f.read()\n",
    "data_preperation_code\n",
    "\n",
    "data_acquisition_code = data_acquisition_code.replace(\"from utils import stretch_hist\",\"\")\n",
    "data_preperation_code= data_preperation_code.replace(\"from utils import stretch_hist\",\"\")\n",
    "\n",
    "with open(\"main.ipynb\", 'r') as f:\n",
    "    cells = nbf.read(f, as_version=4)[\"cells\"]\n",
    "\n",
    "\n",
    "\n",
    "for c in cells:\n",
    "    c[\"source\"] = c[\"source\"].replace(\"import utils\", \"\")\n",
    "    c[\"source\"] = c[\"source\"].replace(\"from data_acquisition import DataHandler\",\"\")\n",
    "    c[\"source\"] = c[\"source\"].replace(\"from data_preparation import apply_preprocessing_pipeline\",\"\")\n",
    "    c[\"source\"] = c[\"source\"].replace(\"datahandler = DataHandler(logger)\",\"datahandler = DataHandler(logger, '/kaggle/input/building-prediction/')\")\n",
    "    c[\"source\"] = c[\"source\"].replace(\"logger = utils.setup_logger(level='ERROR')\",\"logger = setup_logger(level='ERROR')\")\n",
    "  \n",
    "\n",
    "\n"
   ]
  },
  {
   "cell_type": "code",
   "execution_count": 9,
   "metadata": {},
   "outputs": [
    {
     "name": "stderr",
     "output_type": "stream",
     "text": [
      "/home/benni/.venvs/AML/lib/python3.12/site-packages/nbformat/__init__.py:132: MissingIDFieldWarning: Cell is missing an id field, this will become a hard error in future nbformat versions. You may want to use `normalize()` on your notebooks before validations (available since nbformat 5.1.4). Previous versions of nbformat are fixing this issue transparently, and will stop doing so in the future.\n",
      "  validate(nb)\n"
     ]
    }
   ],
   "source": [
    "\n",
    "nb = nbf.v4.new_notebook()\n",
    "\n",
    "\n",
    "nb['cells'] = [nbf.v4.new_code_cell(\"!pip install pyrosm openeo lightning\"),\n",
    "               nbf.v4.new_markdown_cell(\"# Utils\"),\n",
    "               nbf.v4.new_code_cell(utils_code),\n",
    "               nbf.v4.new_markdown_cell(\"# data_acquisition\"),\n",
    "               nbf.v4.new_code_cell(data_acquisition_code),\n",
    "               nbf.v4.new_markdown_cell(\"# data_preperation\"),\n",
    "               nbf.v4.new_code_cell(data_preperation_code),\n",
    "               nbf.v4.new_markdown_cell(\"# Main\"),\n",
    "               ]\n",
    "\n",
    "fname = 'kaggle-notebook.ipynb'\n",
    "\n",
    "nb['cells'] +=cells\n",
    "\n",
    "# for cell in n''b['cells']:\n",
    "#     nb['cells'][c''ell][\"source\"] = cell[\"source\"].replace('\"data/\"',\"/kaggle/input/building-prediction/data/\")\n",
    "with open(fname, 'w') as f:\n",
    "    nbf.write(nb, f)"
   ]
  },
  {
   "cell_type": "code",
   "execution_count": 5,
   "metadata": {},
   "outputs": [
    {
     "name": "stdout",
     "output_type": "stream",
     "text": [
      "Kernel version 6 successfully pushed.  Please check progress at https://www.kaggle.com/code/bennihilliger/aml-notebook\n"
     ]
    }
   ],
   "source": [
    "# Define your notebook and dataset\n",
    "KERNEL_METADATA = {\n",
    "  \"id\": \"bennihilliger/aml-notebook\",\n",
    "  \"id_no\": 61124278,\n",
    "  \"title\": \"AML Notebook\",\n",
    "  \"code_file\": fname,\n",
    "  \"language\": \"python\",\n",
    "  \"kernel_type\": \"notebook\",\n",
    "  \"is_private\": \"true\",\n",
    "  \"enable_gpu\": \"true\",\n",
    "  \"enable_tpu\": \"false\",\n",
    "  \"enable_internet\": \"false\",\n",
    "  \"keywords\": [],\n",
    "  \"dataset_sources\": [\n",
    "    \"bennihilliger/building-prediction\"\n",
    "  ],\n",
    "  \"kernel_sources\": [],\n",
    "  \"competition_sources\": [],\n",
    "  \"model_sources\": []\n",
    "}\n",
    "\n",
    "\n",
    "# Write metadata to a kernel-metadata.json file\n",
    "import json\n",
    "with open('kernel-metadata.json', 'w') as f:\n",
    "    json.dump(KERNEL_METADATA, f)\n",
    "\n",
    "# Use Kaggle API to push the notebook\n",
    "!kaggle kernels push -p .\n",
    "\n",
    "\n",
    "os.rm(\"kernel-metadata.json\")"
   ]
  },
  {
   "cell_type": "code",
   "execution_count": null,
   "metadata": {},
   "outputs": [],
   "source": []
  },
  {
   "cell_type": "code",
   "execution_count": null,
   "metadata": {},
   "outputs": [],
   "source": []
  }
 ],
 "metadata": {
  "kernelspec": {
   "display_name": "AML",
   "language": "python",
   "name": "python3"
  },
  "language_info": {
   "codemirror_mode": {
    "name": "ipython",
    "version": 3
   },
   "file_extension": ".py",
   "mimetype": "text/x-python",
   "name": "python",
   "nbconvert_exporter": "python",
   "pygments_lexer": "ipython3",
   "version": "3.12.4"
  }
 },
 "nbformat": 4,
 "nbformat_minor": 2
}
