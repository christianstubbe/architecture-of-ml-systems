{
 "cells": [
  {
   "cell_type": "code",
   "execution_count": 1,
   "metadata": {},
   "outputs": [],
   "source": [
    "# basics\n",
    "import os\n",
    "import utilities.utils as utils\n",
    "import numpy as np\n",
    "from tqdm.notebook import tqdm\n",
    "\n",
    "# custom modules\n",
    "from data_acquisition.datahandler import DataHandler\n",
    "\n",
    "\n",
    "# Configure logging for the pipeline\n",
    "logger = utils.setup_logger(level=\"ERROR\")"
   ]
  },
  {
   "cell_type": "code",
   "execution_count": 2,
   "metadata": {},
   "outputs": [],
   "source": [
    "import numpy as np\n",
    "from data_preperation.dataset import CityDataset\n",
    "\n",
    "cities = [\n",
    "    \"Aachen\",\n",
    "    \"London\",\n",
    "    \"CapeTown\",\n",
    "    \"Hamburg\",\n",
    "    \"Johannesburg\",\n",
    "    \"London\",\n",
    "    \"Montreal\",\n",
    "    \"Paris\",\n",
    "    \"Seoul\",\n",
    "    \"Singapore\",\n",
    "    \"Sydney\",\n",
    "]"
   ]
  },
  {
   "cell_type": "code",
   "execution_count": 3,
   "metadata": {},
   "outputs": [],
   "source": [
    "cities = [\n",
    "    \"Wien\",\n",
    "    \"London\",\n",
    "    \"CapeTown\",\n",
    "    \"Hamburg\",\n",
    "    \"Johannesburg\",\n",
    "    \"London\",\n",
    "    \"Montreal\",\n",
    "    \"Paris\",\n",
    "    \"Seoul\",\n",
    "    \"Singapore\",\n",
    "    \"Sydney\",\n",
    "]\n",
    "\n",
    "\n",
    "cities = [\n",
    "    # \"Wien\",\n",
    "    # \"Muenchen\",\n",
    "    # \"Soul\",\n",
    "    # \"CapeTown\",\n",
    "    # \"Paris\",\n",
    "    # \"Singapore\",\n",
    "    # \"Sidney\",\n",
    "    # \"London\",\n",
    "    # \"Montreal\",\n",
    "    # \"Bogota\",\n",
    "    \"Berlin\"  # downloads the specific bbox for testing\n",
    "]\n",
    "\n",
    "test_city = [\"Berlin\"]\n",
    "\n",
    "datahandler = DataHandler(logger, path_to_data_directory=\"data\")\n",
    "datahandler.openeo_temporal_extent = [\"2023-03-01\", \"2023-10-31\"]"
   ]
  },
  {
   "cell_type": "code",
   "execution_count": 4,
   "metadata": {},
   "outputs": [
    {
     "ename": "AttributeError",
     "evalue": "'NoneType' object has no attribute 'job'",
     "output_type": "error",
     "traceback": [
      "\u001b[0;31m---------------------------------------------------------------------------\u001b[0m",
      "\u001b[0;31mAttributeError\u001b[0m                            Traceback (most recent call last)",
      "Cell \u001b[0;32mIn[4], line 1\u001b[0m\n\u001b[0;32m----> 1\u001b[0m job \u001b[38;5;241m=\u001b[39m \u001b[43mdatahandler\u001b[49m\u001b[38;5;241;43m.\u001b[39;49m\u001b[43mopeneo_connection\u001b[49m\u001b[38;5;241;43m.\u001b[39;49m\u001b[43mjob\u001b[49m(\u001b[38;5;124m\"\u001b[39m\u001b[38;5;124mj-24070818be154d8f9eb2f8643fce7e6a\u001b[39m\u001b[38;5;124m\"\u001b[39m)\n\u001b[1;32m      2\u001b[0m city \u001b[38;5;241m=\u001b[39m \u001b[38;5;124m\"\u001b[39m\u001b[38;5;124mMuenchen\u001b[39m\u001b[38;5;124m\"\u001b[39m\n\u001b[1;32m      3\u001b[0m job_results \u001b[38;5;241m=\u001b[39m datahandler\u001b[38;5;241m.\u001b[39mopeneo_connection\u001b[38;5;241m.\u001b[39mjob(job\u001b[38;5;241m.\u001b[39mjob_id)\u001b[38;5;241m.\u001b[39mget_results()\n",
      "\u001b[0;31mAttributeError\u001b[0m: 'NoneType' object has no attribute 'job'"
     ]
    }
   ],
   "source": [
    "job = datahandler.openeo_connection.job(\"j-24070818be154d8f9eb2f8643fce7e6a\")\n",
    "city = \"Muenchen\"\n",
    "job_results = datahandler.openeo_connection.job(job.job_id).get_results()\n",
    "job_results.download_files(os.path.join(datahandler.path_to_data_directory, city))"
   ]
  }
 ],
 "metadata": {
  "kernelspec": {
   "display_name": ".venv",
   "language": "python",
   "name": "python3"
  },
  "language_info": {
   "codemirror_mode": {
    "name": "ipython",
    "version": 3
   },
   "file_extension": ".py",
   "mimetype": "text/x-python",
   "name": "python",
   "nbconvert_exporter": "python",
   "pygments_lexer": "ipython3",
   "version": "3.10.12"
  }
 },
 "nbformat": 4,
 "nbformat_minor": 2
}
